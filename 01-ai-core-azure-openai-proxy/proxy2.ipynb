{
 "cells": [
  {
   "attachments": {},
   "cell_type": "markdown",
   "metadata": {},
   "source": [
    "### Install AI Core Python SDK"
   ]
  },
  {
   "cell_type": "code",
   "execution_count": 7,
   "metadata": {
    "scrolled": true
   },
   "outputs": [
    {
     "name": "stdout",
     "output_type": "stream",
     "text": [
      "Requirement already satisfied: ai-core-sdk in /opt/homebrew/lib/python3.11/site-packages (1.22.0)\n",
      "Requirement already satisfied: ai-api-client-sdk==1.27.0 in /opt/homebrew/lib/python3.11/site-packages (from ai-core-sdk) (1.27.0)\n",
      "Requirement already satisfied: aenum~=3.1 in /opt/homebrew/lib/python3.11/site-packages (from ai-api-client-sdk==1.27.0->ai-core-sdk) (3.1.12)\n",
      "Requirement already satisfied: pyhumps~=3.0 in /opt/homebrew/lib/python3.11/site-packages (from ai-api-client-sdk==1.27.0->ai-core-sdk) (3.8.0)\n",
      "Requirement already satisfied: requests<3.0 in /opt/homebrew/lib/python3.11/site-packages (from ai-api-client-sdk==1.27.0->ai-core-sdk) (2.31.0)\n",
      "Requirement already satisfied: charset-normalizer<4,>=2 in /opt/homebrew/lib/python3.11/site-packages (from requests<3.0->ai-api-client-sdk==1.27.0->ai-core-sdk) (3.1.0)\n",
      "Requirement already satisfied: idna<4,>=2.5 in /opt/homebrew/lib/python3.11/site-packages (from requests<3.0->ai-api-client-sdk==1.27.0->ai-core-sdk) (3.4)\n",
      "Requirement already satisfied: urllib3<3,>=1.21.1 in /opt/homebrew/lib/python3.11/site-packages (from requests<3.0->ai-api-client-sdk==1.27.0->ai-core-sdk) (2.0.3)\n",
      "Requirement already satisfied: certifi>=2017.4.17 in /opt/homebrew/lib/python3.11/site-packages (from requests<3.0->ai-api-client-sdk==1.27.0->ai-core-sdk) (2023.5.7)\n"
     ]
    }
   ],
   "source": [
    "!pip install ai-core-sdk"
   ]
  },
  {
   "cell_type": "code",
   "execution_count": 8,
   "metadata": {},
   "outputs": [],
   "source": [
    "import json\n",
    "import requests\n",
    "import time\n",
    "import yaml\n",
    "from IPython.display import clear_output\n",
    "from pprint import pprint\n",
    "\n",
    "from ai_core_sdk.models import ParameterBinding, Status"
   ]
  },
  {
   "cell_type": "code",
   "execution_count": 9,
   "metadata": {},
   "outputs": [],
   "source": [
    "# Setup\n",
    "aic_service_key_path = \"./resources/aic_service_key.json\"\n",
    "git_setup_file_path = \"./resources/git_setup.json\"\n",
    "docker_secret_file_path = \"./resources/docker_secret.json\"\n",
    "env_file_path = \"./resources/env.json\""
   ]
  },
  {
   "attachments": {},
   "cell_type": "markdown",
   "metadata": {},
   "source": [
    "### 1. Connect to your AI Core instance"
   ]
  },
  {
   "cell_type": "code",
   "execution_count": 10,
   "metadata": {},
   "outputs": [],
   "source": [
    "# Load Library\n",
    "with open(aic_service_key_path) as ask:\n",
    "    aic_service_key = json.load(ask)\n",
    "\n",
    "from ai_core_sdk.ai_core_v2_client import AICoreV2Client\n",
    "\n",
    "# Create Connection\n",
    "ai_core_client = AICoreV2Client(\n",
    "    base_url = aic_service_key[\"serviceurls\"][\"AI_API_URL\"] + \"/v2\", # The present AI API version is 2\n",
    "    auth_url=  aic_service_key[\"url\"] + \"/oauth/token\",\n",
    "    client_id = aic_service_key[\"clientid\"],\n",
    "    client_secret = aic_service_key[\"clientsecret\"]\n",
    ")"
   ]
  },
  {
   "attachments": {},
   "cell_type": "markdown",
   "metadata": {},
   "source": [
    "*Returns no output*"
   ]
  },
  {
   "attachments": {},
   "cell_type": "markdown",
   "metadata": {},
   "source": [
    "### 2. Test connection"
   ]
  },
  {
   "cell_type": "code",
   "execution_count": 11,
   "metadata": {},
   "outputs": [
    {
     "name": "stdout",
     "output_type": "stream",
     "text": [
      "1\n"
     ]
    }
   ],
   "source": [
    "response = ai_core_client.repositories.query()\n",
    "print(response.count) # Should return integer value else your values in above step are incorrect"
   ]
  },
  {
   "attachments": {},
   "cell_type": "markdown",
   "metadata": {},
   "source": [
    "### 2. Onboard the Git repository that contains the templates"
   ]
  },
  {
   "cell_type": "code",
   "execution_count": 12,
   "metadata": {},
   "outputs": [
    {
     "ename": "AIAPIServerException",
     "evalue": "Failed to post /admin/repositories: A repository with name 'azure-openai-aicore' already exists \n Status Code: 409, Request ID:None",
     "output_type": "error",
     "traceback": [
      "\u001b[0;31m---------------------------------------------------------------------------\u001b[0m",
      "\u001b[0;31mAIAPIServerException\u001b[0m                      Traceback (most recent call last)",
      "Cell \u001b[0;32mIn[12], line 7\u001b[0m\n\u001b[1;32m      4\u001b[0m \u001b[39mwith\u001b[39;00m \u001b[39mopen\u001b[39m(git_setup_file_path) \u001b[39mas\u001b[39;00m gs:\n\u001b[1;32m      5\u001b[0m \t\tgit_key \u001b[39m=\u001b[39m json\u001b[39m.\u001b[39mload(gs)\n\u001b[0;32m----> 7\u001b[0m ai_core_client\u001b[39m.\u001b[39;49mrepositories\u001b[39m.\u001b[39;49mcreate(\n\u001b[1;32m      8\u001b[0m     name \u001b[39m=\u001b[39;49m \u001b[39m\"\u001b[39;49m\u001b[39mazure-openai-aicore\u001b[39;49m\u001b[39m\"\u001b[39;49m,\n\u001b[1;32m      9\u001b[0m     url \u001b[39m=\u001b[39;49m \u001b[39mf\u001b[39;49m\u001b[39m\"\u001b[39;49m\u001b[39mhttps://github.com/\u001b[39;49m\u001b[39m{\u001b[39;49;00mgit_key[\u001b[39m'\u001b[39;49m\u001b[39musername\u001b[39;49m\u001b[39m'\u001b[39;49m]\u001b[39m}\u001b[39;49;00m\u001b[39m/azure-openai-aicore-cap-api\u001b[39;49m\u001b[39m\"\u001b[39;49m, \u001b[39m# Forked repo\u001b[39;49;00m\n\u001b[1;32m     10\u001b[0m     username \u001b[39m=\u001b[39;49m git_key[\u001b[39m\"\u001b[39;49m\u001b[39musername\u001b[39;49m\u001b[39m\"\u001b[39;49m],\n\u001b[1;32m     11\u001b[0m     password \u001b[39m=\u001b[39;49m git_key[\u001b[39m\"\u001b[39;49m\u001b[39mpassword\u001b[39;49m\u001b[39m\"\u001b[39;49m]\n\u001b[1;32m     12\u001b[0m )\n",
      "File \u001b[0;32m/opt/homebrew/lib/python3.11/site-packages/ai_core_sdk/resource_clients/repositories_client.py:38\u001b[0m, in \u001b[0;36mRepositoriesClient.create\u001b[0;34m(self, name, url, username, password)\u001b[0m\n\u001b[1;32m     16\u001b[0m \u001b[39m\u001b[39m\u001b[39m\"\"\"On-boards a new GitOps repository\u001b[39;00m\n\u001b[1;32m     17\u001b[0m \n\u001b[1;32m     18\u001b[0m \u001b[39m:param name: name of the GitOps repository\u001b[39;00m\n\u001b[0;32m   (...)\u001b[0m\n\u001b[1;32m     35\u001b[0m \u001b[39m:rtype: class:`ai_core_sdk.models.base_models.BasicNameResponse`\u001b[39;00m\n\u001b[1;32m     36\u001b[0m \u001b[39m\"\"\"\u001b[39;00m\n\u001b[1;32m     37\u001b[0m body \u001b[39m=\u001b[39m {\u001b[39m'\u001b[39m\u001b[39mname\u001b[39m\u001b[39m'\u001b[39m: name, \u001b[39m'\u001b[39m\u001b[39murl\u001b[39m\u001b[39m'\u001b[39m: url, \u001b[39m'\u001b[39m\u001b[39musername\u001b[39m\u001b[39m'\u001b[39m: username, \u001b[39m'\u001b[39m\u001b[39mpassword\u001b[39m\u001b[39m'\u001b[39m: password}\n\u001b[0;32m---> 38\u001b[0m response_dict \u001b[39m=\u001b[39m \u001b[39mself\u001b[39;49m\u001b[39m.\u001b[39;49mrest_client\u001b[39m.\u001b[39;49mpost(path\u001b[39m=\u001b[39;49m\u001b[39mself\u001b[39;49m\u001b[39m.\u001b[39;49m__PATH, body\u001b[39m=\u001b[39;49mbody)\n\u001b[1;32m     39\u001b[0m \u001b[39mreturn\u001b[39;00m Message\u001b[39m.\u001b[39mfrom_dict(response_dict)\n",
      "File \u001b[0;32m/opt/homebrew/lib/python3.11/site-packages/ai_api_client_sdk/helpers/rest_client.py:146\u001b[0m, in \u001b[0;36mRestClient.post\u001b[0;34m(self, path, body, headers, resource_group)\u001b[0m\n\u001b[1;32m    118\u001b[0m \u001b[39mdef\u001b[39;00m \u001b[39mpost\u001b[39m(\u001b[39mself\u001b[39m, path: \u001b[39mstr\u001b[39m, body: Dict[\u001b[39mstr\u001b[39m, Union[\u001b[39mstr\u001b[39m, \u001b[39mdict\u001b[39m]] \u001b[39m=\u001b[39m \u001b[39mNone\u001b[39;00m, headers: Dict[\u001b[39mstr\u001b[39m, \u001b[39mstr\u001b[39m] \u001b[39m=\u001b[39m \u001b[39mNone\u001b[39;00m,\n\u001b[1;32m    119\u001b[0m          resource_group: \u001b[39mstr\u001b[39m \u001b[39m=\u001b[39m \u001b[39mNone\u001b[39;00m) \u001b[39m-\u001b[39m\u001b[39m>\u001b[39m \u001b[39mdict\u001b[39m:\n\u001b[1;32m    120\u001b[0m \u001b[39m    \u001b[39m\u001b[39m\"\"\"Sends a POST request to the server.\u001b[39;00m\n\u001b[1;32m    121\u001b[0m \n\u001b[1;32m    122\u001b[0m \u001b[39m    :param path: path of the endpoint the request should be sent to\u001b[39;00m\n\u001b[0;32m   (...)\u001b[0m\n\u001b[1;32m    144\u001b[0m \u001b[39m    :rtype: dict\u001b[39;00m\n\u001b[1;32m    145\u001b[0m \u001b[39m    \"\"\"\u001b[39;00m\n\u001b[0;32m--> 146\u001b[0m     \u001b[39mreturn\u001b[39;00m \u001b[39mself\u001b[39;49m\u001b[39m.\u001b[39;49m_handle_request(\u001b[39m'\u001b[39;49m\u001b[39mpost\u001b[39;49m\u001b[39m'\u001b[39;49m, path\u001b[39m=\u001b[39;49mpath, body_json\u001b[39m=\u001b[39;49mbody, headers\u001b[39m=\u001b[39;49mheaders, resource_group\u001b[39m=\u001b[39;49mresource_group)\n",
      "File \u001b[0;32m/opt/homebrew/lib/python3.11/site-packages/ai_api_client_sdk/helpers/rest_client.py:110\u001b[0m, in \u001b[0;36mRestClient._handle_request\u001b[0;34m(self, method, path, params, body_json, headers, resource_group)\u001b[0m\n\u001b[1;32m    106\u001b[0m         \u001b[39mraise\u001b[39;00m AIAPIPreconditionFailedException(description\u001b[39m=\u001b[39merror_description, error_message\u001b[39m=\u001b[39merror_message,\n\u001b[1;32m    107\u001b[0m                                                error_code\u001b[39m=\u001b[39merror_code, request_id\u001b[39m=\u001b[39mrequest_id,\n\u001b[1;32m    108\u001b[0m                                                details\u001b[39m=\u001b[39merror_details)\n\u001b[1;32m    109\u001b[0m     \u001b[39melse\u001b[39;00m:\n\u001b[0;32m--> 110\u001b[0m         \u001b[39mraise\u001b[39;00m AIAPIServerException(status_code\u001b[39m=\u001b[39mstatus_code, description\u001b[39m=\u001b[39merror_description,\n\u001b[1;32m    111\u001b[0m                                    error_message\u001b[39m=\u001b[39merror_message, error_code\u001b[39m=\u001b[39merror_code, request_id\u001b[39m=\u001b[39mrequest_id,\n\u001b[1;32m    112\u001b[0m                                    details\u001b[39m=\u001b[39merror_details)\n\u001b[1;32m    113\u001b[0m \u001b[39melif\u001b[39;00m response\u001b[39m.\u001b[39mstatus_code \u001b[39m/\u001b[39m\u001b[39m/\u001b[39m \u001b[39m100\u001b[39m \u001b[39m!=\u001b[39m \u001b[39m2\u001b[39m:\n\u001b[1;32m    114\u001b[0m     \u001b[39mraise\u001b[39;00m AIAPIServerException(description\u001b[39m=\u001b[39merror_description, error_message\u001b[39m=\u001b[39mresponse\u001b[39m.\u001b[39mtext,\n\u001b[1;32m    115\u001b[0m                                status_code\u001b[39m=\u001b[39mresponse\u001b[39m.\u001b[39mstatus_code)\n",
      "\u001b[0;31mAIAPIServerException\u001b[0m: Failed to post /admin/repositories: A repository with name 'azure-openai-aicore' already exists \n Status Code: 409, Request ID:None"
     ]
    }
   ],
   "source": [
    "# WARNING: Refrain from onboarding again if previously onboarded\n",
    "#  else you will get AIAPIServerException 409\n",
    "\n",
    "with open(git_setup_file_path) as gs:\n",
    "\t\tgit_key = json.load(gs)\n",
    "\n",
    "ai_core_client.repositories.create(\n",
    "    name = \"azure-openai-aicore\",\n",
    "    url = f\"https://github.com/{git_key['username']}/azure-openai-aicore-cap-api\", # Forked repo\n",
    "    username = git_key[\"username\"],\n",
    "    password = git_key[\"password\"]\n",
    ")"
   ]
  },
  {
   "cell_type": "code",
   "execution_count": 13,
   "metadata": {
    "scrolled": true
   },
   "outputs": [
    {
     "name": "stdout",
     "output_type": "stream",
     "text": [
      "Name: azure-openai-aicore-cap-api\n",
      "URL: https://github.com/KuhnSa/azure-openai-aicore-cap-api\n",
      "Status: RepositoryStatus.COMPLETED\n"
     ]
    }
   ],
   "source": [
    "# Check onboarded repositories\n",
    "response = ai_core_client.repositories.query()\n",
    "#\n",
    "for repository in response.resources:\n",
    "    print('Name:', repository.name)\n",
    "    print('URL:', repository.url)\n",
    "    print('Status:', repository.status)\n"
   ]
  },
  {
   "attachments": {},
   "cell_type": "markdown",
   "metadata": {},
   "source": [
    "*Expected Output*\n",
    "\n",
    "```\n",
    "...\n",
    "Name: azure-openai-aicore\n",
    "URL: https://github.com/john/azure-openai-aicore-cap-api\n",
    "Status: RepositoryStatus.COMPLETED\n",
    "```"
   ]
  },
  {
   "attachments": {},
   "cell_type": "markdown",
   "metadata": {},
   "source": [
    "### 3. Register an application"
   ]
  },
  {
   "cell_type": "code",
   "execution_count": 14,
   "metadata": {
    "scrolled": true
   },
   "outputs": [
    {
     "ename": "AIAPIServerException",
     "evalue": "Failed to post /admin/applications: The tenant does not own the repository \n Status Code: 409, Request ID:None",
     "output_type": "error",
     "traceback": [
      "\u001b[0;31m---------------------------------------------------------------------------\u001b[0m",
      "\u001b[0;31mAIAPIServerException\u001b[0m                      Traceback (most recent call last)",
      "Cell \u001b[0;32mIn[14], line 3\u001b[0m\n\u001b[1;32m      1\u001b[0m \u001b[39m# WARNING: Run only once\u001b[39;00m\n\u001b[0;32m----> 3\u001b[0m ai_core_client\u001b[39m.\u001b[39;49mapplications\u001b[39m.\u001b[39;49mcreate(\n\u001b[1;32m      4\u001b[0m     repository_url \u001b[39m=\u001b[39;49m \u001b[39mf\u001b[39;49m\u001b[39m\"\u001b[39;49m\u001b[39mhttps://github.com/\u001b[39;49m\u001b[39m{\u001b[39;49;00mgit_key[\u001b[39m'\u001b[39;49m\u001b[39musername\u001b[39;49m\u001b[39m'\u001b[39;49m]\u001b[39m}\u001b[39;49;00m\u001b[39m/azure-openai-aicore-cap-api\u001b[39;49m\u001b[39m\"\u001b[39;49m,\n\u001b[1;32m      5\u001b[0m     path \u001b[39m=\u001b[39;49m \u001b[39m\"\u001b[39;49m\u001b[39m01-ai-core-azure-openai-proxy/scenario\u001b[39;49m\u001b[39m\"\u001b[39;49m, \u001b[39m# Scan this folder for instruction YAML files\u001b[39;49;00m\n\u001b[1;32m      6\u001b[0m     revision \u001b[39m=\u001b[39;49m \u001b[39m\"\u001b[39;49m\u001b[39mHEAD\u001b[39;49m\u001b[39m\"\u001b[39;49m\n\u001b[1;32m      7\u001b[0m )\n",
      "File \u001b[0;32m/opt/homebrew/lib/python3.11/site-packages/ai_core_sdk/resource_clients/applications_client.py:53\u001b[0m, in \u001b[0;36mApplicationsClient.create\u001b[0;34m(self, revision, path, application_name, repository_name, repository_url)\u001b[0m\n\u001b[1;32m     51\u001b[0m \u001b[39mif\u001b[39;00m application_name:\n\u001b[1;32m     52\u001b[0m     body[\u001b[39m'\u001b[39m\u001b[39mapplication_name\u001b[39m\u001b[39m'\u001b[39m] \u001b[39m=\u001b[39m application_name\n\u001b[0;32m---> 53\u001b[0m response_dict \u001b[39m=\u001b[39m \u001b[39mself\u001b[39;49m\u001b[39m.\u001b[39;49mrest_client\u001b[39m.\u001b[39;49mpost(path\u001b[39m=\u001b[39;49m\u001b[39mself\u001b[39;49m\u001b[39m.\u001b[39;49m__PATH, body\u001b[39m=\u001b[39;49mbody)\n\u001b[1;32m     54\u001b[0m \u001b[39mreturn\u001b[39;00m BasicResponse\u001b[39m.\u001b[39mfrom_dict(response_dict)\n",
      "File \u001b[0;32m/opt/homebrew/lib/python3.11/site-packages/ai_api_client_sdk/helpers/rest_client.py:146\u001b[0m, in \u001b[0;36mRestClient.post\u001b[0;34m(self, path, body, headers, resource_group)\u001b[0m\n\u001b[1;32m    118\u001b[0m \u001b[39mdef\u001b[39;00m \u001b[39mpost\u001b[39m(\u001b[39mself\u001b[39m, path: \u001b[39mstr\u001b[39m, body: Dict[\u001b[39mstr\u001b[39m, Union[\u001b[39mstr\u001b[39m, \u001b[39mdict\u001b[39m]] \u001b[39m=\u001b[39m \u001b[39mNone\u001b[39;00m, headers: Dict[\u001b[39mstr\u001b[39m, \u001b[39mstr\u001b[39m] \u001b[39m=\u001b[39m \u001b[39mNone\u001b[39;00m,\n\u001b[1;32m    119\u001b[0m          resource_group: \u001b[39mstr\u001b[39m \u001b[39m=\u001b[39m \u001b[39mNone\u001b[39;00m) \u001b[39m-\u001b[39m\u001b[39m>\u001b[39m \u001b[39mdict\u001b[39m:\n\u001b[1;32m    120\u001b[0m \u001b[39m    \u001b[39m\u001b[39m\"\"\"Sends a POST request to the server.\u001b[39;00m\n\u001b[1;32m    121\u001b[0m \n\u001b[1;32m    122\u001b[0m \u001b[39m    :param path: path of the endpoint the request should be sent to\u001b[39;00m\n\u001b[0;32m   (...)\u001b[0m\n\u001b[1;32m    144\u001b[0m \u001b[39m    :rtype: dict\u001b[39;00m\n\u001b[1;32m    145\u001b[0m \u001b[39m    \"\"\"\u001b[39;00m\n\u001b[0;32m--> 146\u001b[0m     \u001b[39mreturn\u001b[39;00m \u001b[39mself\u001b[39;49m\u001b[39m.\u001b[39;49m_handle_request(\u001b[39m'\u001b[39;49m\u001b[39mpost\u001b[39;49m\u001b[39m'\u001b[39;49m, path\u001b[39m=\u001b[39;49mpath, body_json\u001b[39m=\u001b[39;49mbody, headers\u001b[39m=\u001b[39;49mheaders, resource_group\u001b[39m=\u001b[39;49mresource_group)\n",
      "File \u001b[0;32m/opt/homebrew/lib/python3.11/site-packages/ai_api_client_sdk/helpers/rest_client.py:110\u001b[0m, in \u001b[0;36mRestClient._handle_request\u001b[0;34m(self, method, path, params, body_json, headers, resource_group)\u001b[0m\n\u001b[1;32m    106\u001b[0m         \u001b[39mraise\u001b[39;00m AIAPIPreconditionFailedException(description\u001b[39m=\u001b[39merror_description, error_message\u001b[39m=\u001b[39merror_message,\n\u001b[1;32m    107\u001b[0m                                                error_code\u001b[39m=\u001b[39merror_code, request_id\u001b[39m=\u001b[39mrequest_id,\n\u001b[1;32m    108\u001b[0m                                                details\u001b[39m=\u001b[39merror_details)\n\u001b[1;32m    109\u001b[0m     \u001b[39melse\u001b[39;00m:\n\u001b[0;32m--> 110\u001b[0m         \u001b[39mraise\u001b[39;00m AIAPIServerException(status_code\u001b[39m=\u001b[39mstatus_code, description\u001b[39m=\u001b[39merror_description,\n\u001b[1;32m    111\u001b[0m                                    error_message\u001b[39m=\u001b[39merror_message, error_code\u001b[39m=\u001b[39merror_code, request_id\u001b[39m=\u001b[39mrequest_id,\n\u001b[1;32m    112\u001b[0m                                    details\u001b[39m=\u001b[39merror_details)\n\u001b[1;32m    113\u001b[0m \u001b[39melif\u001b[39;00m response\u001b[39m.\u001b[39mstatus_code \u001b[39m/\u001b[39m\u001b[39m/\u001b[39m \u001b[39m100\u001b[39m \u001b[39m!=\u001b[39m \u001b[39m2\u001b[39m:\n\u001b[1;32m    114\u001b[0m     \u001b[39mraise\u001b[39;00m AIAPIServerException(description\u001b[39m=\u001b[39merror_description, error_message\u001b[39m=\u001b[39mresponse\u001b[39m.\u001b[39mtext,\n\u001b[1;32m    115\u001b[0m                                status_code\u001b[39m=\u001b[39mresponse\u001b[39m.\u001b[39mstatus_code)\n",
      "\u001b[0;31mAIAPIServerException\u001b[0m: Failed to post /admin/applications: The tenant does not own the repository \n Status Code: 409, Request ID:None"
     ]
    }
   ],
   "source": [
    "# WARNING: Run only once\n",
    "\n",
    "ai_core_client.applications.create(\n",
    "    repository_url = f\"https://github.com/{git_key['username']}/azure-openai-aicore-cap-api\",\n",
    "    path = \"01-ai-core-azure-openai-proxy/scenario\", # Scan this folder for instruction YAML files\n",
    "    revision = \"HEAD\"\n",
    ")"
   ]
  },
  {
   "cell_type": "code",
   "execution_count": 9,
   "metadata": {
    "scrolled": true
   },
   "outputs": [],
   "source": [
    "# List scenarios scanned by the application created above\n",
    "response = ai_core_client.scenario.query(resource_group='default')\n",
    "\n",
    "for scenario in response.resources:\n",
    "    print(scenario.__dict__)"
   ]
  },
  {
   "attachments": {},
   "cell_type": "markdown",
   "metadata": {},
   "source": [
    "*Expected Output*\n",
    "\n",
    "```\n",
    "...\n",
    "{'id': 'azure-openai-proxy', 'name': 'Azure OpenAI Proxy', 'description': 'Azure OpenAI  Proxy', 'labels': None, ...)}\n",
    "```"
   ]
  },
  {
   "attachments": {},
   "cell_type": "markdown",
   "metadata": {},
   "source": [
    "### 4 Docker Hub (optional)\n",
    "#### 4.1 Register Docker secret on SAP BTP, AI Core (optional)"
   ]
  },
  {
   "cell_type": "code",
   "execution_count": 8,
   "metadata": {},
   "outputs": [
    {
     "name": "stdout",
     "output_type": "stream",
     "text": [
      "{'message': 'Secret exists'}\n"
     ]
    }
   ],
   "source": [
    "with open(docker_secret_file_path) as dsf:\n",
    "    docker_secret = json.load(dsf)\n",
    "\n",
    "\n",
    "response = ai_core_client.docker_registry_secrets.create(\n",
    "    name = docker_secret[\"name\"],\n",
    "    data = docker_secret[\"data\"]\n",
    ")\n",
    "\n",
    "print(response.__dict__)"
   ]
  },
  {
   "cell_type": "code",
   "execution_count": null,
   "metadata": {},
   "outputs": [],
   "source": []
  },
  {
   "attachments": {},
   "cell_type": "markdown",
   "metadata": {},
   "source": [
    "*Expected Output*\n",
    "\n",
    "```\n",
    "{'message': 'secret has been created'}\n",
    "```"
   ]
  },
  {
   "attachments": {},
   "cell_type": "markdown",
   "metadata": {},
   "source": [
    "#### 4.2 Build and push Docker image (optional)\n",
    "```\n",
    "$ cd proxy\n",
    "$ docker build -t kuhnlinhsa/azure-openai-proxy .\n",
    "$ docker push {DOCKER_USERNAME}/azure-openai-proxy\n",
    "```\n",
    "\n",
    "THROUGH THE DOCKER CLI.  \n",
    "See: https://developers.sap.com/tutorials/ai-core-aiapi-clientsdk-workflows.html#f824a41d-efe8-4883-8238-caef4ac5f789"
   ]
  },
  {
   "attachments": {},
   "cell_type": "markdown",
   "metadata": {},
   "source": []
  },
  {
   "attachments": {},
   "cell_type": "markdown",
   "metadata": {},
   "source": [
    "### 5. Create a resource group (Optional)"
   ]
  },
  {
   "cell_type": "code",
   "execution_count": 15,
   "metadata": {},
   "outputs": [
    {
     "name": "stdout",
     "output_type": "stream",
     "text": [
      "{'resource_group_id': 'azure-openai-aicore', 'labels': None, 'status': None, 'created_at': None}\n"
     ]
    }
   ],
   "source": [
    "# For Free Tier AI Core Serice:\n",
    "#  you will not be able to create a new resource group.\n",
    "#  resource group named `default` exists in all systems.\n",
    "#  cell execution does not impact existing contents\n",
    "#\n",
    "# For paid AI Core service: \n",
    "#  IF you wish execute this step\n",
    "#  You are NOT REQUIRED TO RE-EXECUTE or Redo previous completed steps.\n",
    "#  Ensure that in the steps that follows modify with your resource group name\n",
    "\n",
    "resource_group_id = \"azure-openai-aicore\" # For free tier; `default` exsits in all systems\n",
    "# resource_group_id = \"my-openai-proxy-ns\" # For paid account you can create a namespace aka resource group\n",
    "                                              # Other steps \n",
    "\n",
    "response = ai_core_client.resource_groups.create(resource_group_id = resource_group_id)\n",
    "print(response.__dict__)"
   ]
  },
  {
   "attachments": {},
   "cell_type": "markdown",
   "metadata": {},
   "source": [
    "### 6. Create configuration to serve the model"
   ]
  },
  {
   "cell_type": "code",
   "execution_count": 16,
   "metadata": {},
   "outputs": [],
   "source": [
    "with open(env_file_path) as efp:\n",
    "    env_val = json.load(efp)\n",
    "\n",
    "OPENAI_API_BASE = env_val[\"OPENAI_API_BASE\"]\n",
    "OPENAI_API_KEY = env_val[\"OPENAI_API_KEY\"]\n",
    "DOCKER_NAMESPACE = env_val[\"DOCKER_NAMESPACE\"]"
   ]
  },
  {
   "cell_type": "code",
   "execution_count": 17,
   "metadata": {},
   "outputs": [
    {
     "name": "stdout",
     "output_type": "stream",
     "text": [
      "{'id': '12157971-0b97-4bed-998b-4622a8f3641a', 'message': 'Configuration created'}\n"
     ]
    }
   ],
   "source": [
    "# No modification required in below snippet\n",
    "response = ai_core_client.configuration.create(\n",
    "    name = \"azure-proxy-serve\",\n",
    "    scenario_id = \"azure-openai-proxy\",\n",
    "    executable_id = \"azure-openai-proxy\",\n",
    "    input_artifact_bindings = [],\n",
    "    parameter_bindings = [\n",
    "        ParameterBinding(key = \"OPENAI_API_BASE\", value = OPENAI_API_BASE),\n",
    "        ParameterBinding(key = \"OPENAI_API_KEY\", value = OPENAI_API_KEY), \n",
    "        ParameterBinding(key = \"DOCKER_NAMESPACE\", value = DOCKER_NAMESPACE)\n",
    "    ],\n",
    "    resource_group = resource_group_id\n",
    ")\n",
    "\n",
    "\n",
    "serve_config_resp = response\n",
    "print(response.__dict__)"
   ]
  },
  {
   "attachments": {},
   "cell_type": "markdown",
   "metadata": {},
   "source": [
    "### 7. Actually serve the proxy"
   ]
  },
  {
   "cell_type": "code",
   "execution_count": 18,
   "metadata": {},
   "outputs": [
    {
     "name": "stdout",
     "output_type": "stream",
     "text": [
      "{'id': 'de6530e2c6103eca', 'message': 'Deployment scheduled.', 'deployment_url': '', 'status': <Status.UNKNOWN: 'UNKNOWN'>, 'ttl': None}\n"
     ]
    }
   ],
   "source": [
    "# Start proxy\n",
    "response = ai_core_client.deployment.create(\n",
    "    configuration_id=serve_config_resp.id,\n",
    "    resource_group=resource_group_id\n",
    ")\n",
    "\n",
    "deployment_resp = response\n",
    "print(response.__dict__)"
   ]
  },
  {
   "cell_type": "code",
   "execution_count": 19,
   "metadata": {},
   "outputs": [
    {
     "name": "stdout",
     "output_type": "stream",
     "text": [
      "...... deployment status ......\n",
      "Status.RUNNING\n",
      "None\n",
      "Deployment with de6530e2c6103eca complete!\n"
     ]
    }
   ],
   "source": [
    "# Poll deployment status.\n",
    "# No modification required in below snipet\n",
    "status = None\n",
    "while status != Status.RUNNING and status != Status.DEAD:\n",
    "    time.sleep(5)\n",
    "    clear_output(wait=True)\n",
    "    # Get Status\n",
    "    #\n",
    "    deployment = response = ai_core_client.deployment.get(\n",
    "        deployment_id=deployment_resp.id,\n",
    "        resource_group=resource_group_id\n",
    "    )\n",
    "    status = deployment.status\n",
    "    print(\"...... deployment status ......\", flush=True)\n",
    "    print(deployment.status)\n",
    "    pprint(deployment.status_details)\n",
    "\n",
    "    if deployment.status == Status.RUNNING:\n",
    "        print(f\"Deployment with {deployment_resp.id} complete!\")\n",
    "\n",
    "# Allow some time for deployment URL to get ready.\n",
    "time.sleep(10)"
   ]
  },
  {
   "attachments": {},
   "cell_type": "markdown",
   "metadata": {},
   "source": [
    "### 8. Do an inference request"
   ]
  },
  {
   "cell_type": "code",
   "execution_count": 26,
   "metadata": {},
   "outputs": [
    {
     "name": "stdout",
     "output_type": "stream",
     "text": [
      "Inference result: {'error': 'Invalid URL (POST /openai/deployments/<myAIResourceForTheInverterDaVinci>/chat/completions)'}\n",
      "{'_content': b'{\"error\":\"Invalid URL (POST /openai/deployments/<myAIResourceFor'\n",
      "             b'TheInverterDaVinci>/chat/completions)\"}\\n',\n",
      " '_content_consumed': True,\n",
      " '_next': None,\n",
      " 'connection': <requests.adapters.HTTPAdapter object at 0x10854fad0>,\n",
      " 'cookies': <RequestsCookieJar[]>,\n",
      " 'elapsed': datetime.timedelta(microseconds=505778),\n",
      " 'encoding': 'utf-8',\n",
      " 'headers': {'content-length': '104', 'content-type': 'application/json', 'date': 'Fri, 30 Jun 2023 08:20:34 GMT', 'server': 'istio-envoy', 'x-envoy-upstream-service-time': '222'},\n",
      " 'history': [],\n",
      " 'raw': <urllib3.response.HTTPResponse object at 0x10843cac0>,\n",
      " 'reason': 'OK',\n",
      " 'request': <PreparedRequest [POST]>,\n",
      " 'status_code': 200,\n",
      " 'url': 'https://api.ai.prod.eu-central-1.aws.ml.hana.ondemand.com/v2/inference/deployments/de6530e2c6103eca/v2/chat-completion'}\n"
     ]
    }
   ],
   "source": [
    "endpoint = f\"{deployment.deployment_url}/v2/envs\"\n",
    "headers = {\"Authorization\": ai_core_client.rest_client.get_token(),\n",
    "           \"ai-resource-group\": resource_group_id,\n",
    "           \"Content-Type\": \"application/json\"}\n",
    "response = requests.get(endpoint, headers=headers)\n",
    "\n",
    "legacy_davinci = False # set True if you have a davinci model deployment on Azure OpenAI Services\n",
    "if legacy_davinci:\n",
    "    body = {\n",
    "        \"engine\": \"<myAIResourceForTheInverter>\", # The deployment name you chose when you deployed the ChatGPT or GPT-4 model.\n",
    "                                   #   For information of deployment creation and name Refer article https://learn.microsoft.com/en-us/azure/cognitive-services/openai/how-to/create-resource?pivots=web-portal\n",
    "        \"prompt\": \"Classify the following news article into 1 of the following categories: categories: [Business, Tech, Politics, Sport, Entertainment]\\n\\nnews article: Donna Steffensen Is Cooking Up a New Kind of Perfection. The Internet’s most beloved cooking guru has a buzzy new book and a fresh new perspective:\\n\\nClassified category:\",\n",
    "        \"max_tokens\": 60,\n",
    "        \"temperature\": 0,\n",
    "        \"frequency_penalty\": 0,\n",
    "        \"presence_penalty\": 0,\n",
    "        \"top_p\": 1,\n",
    "        \"best_of\": 1,\n",
    "        \"stop\": \"null\"\n",
    "    }\n",
    "    endpoint = f\"{deployment.deployment_url}/v2/completion\"\n",
    "else:\n",
    "    body = {\n",
    "        \"engine\": \"<myAIResourceForTheInverter>\", # include your engine from a deployment of an Azure OpenAI services model\n",
    "        \"prompt\": \"Classify the following news article into 1 of the following categories: categories: [Business, Tech, Politics, Sport, Entertainment]\\n\\nnews article: Donna Steffensen Is Cooking Up a New Kind of Perfection. The Internet’s most beloved cooking guru has a buzzy new book and a fresh new perspective:\\n\\nClassified category:\",\n",
    "        \"max_tokens\": 60,\n",
    "        \"temperature\": 0,\n",
    "        \"frequency_penalty\": 0,\n",
    "        \"presence_penalty\": 0,\n",
    "        \"stop\": \"null\"\n",
    "    }\n",
    "    endpoint = f\"{deployment.deployment_url}/v2/chat-completion\"\n",
    "\n",
    "headers = {\"Authorization\": ai_core_client.rest_client.get_token(),\n",
    "           \"ai-resource-group\": resource_group_id,\n",
    "           \"Content-Type\": \"application/json\"}\n",
    "response = requests.post(endpoint, headers=headers, json=body)\n",
    "\n",
    "print(\"Inference result:\", response.json())\n",
    "pprint(vars(response))"
   ]
  },
  {
   "attachments": {},
   "cell_type": "markdown",
   "metadata": {},
   "source": [
    "### 9. Kill deployment (optional)"
   ]
  },
  {
   "cell_type": "code",
   "execution_count": null,
   "metadata": {},
   "outputs": [],
   "source": [
    "delete_resp = ai_core_client.deployment.modify(deployment_resp.id,\n",
    "                                                 target_status=Status.STOPPED,\n",
    "                                              resource_group=resource_group_id)\n",
    "status = None\n",
    "while status != Status.STOPPED:\n",
    "    time.sleep(5)\n",
    "    clear_output(wait=True)\n",
    "    deployment = ai_core_client.deployment.get(deployment_resp.id, resource_group=resource_group_id)\n",
    "    status = deployment.status\n",
    "    print(\"...... killing deployment ......\", flush=True)\n",
    "    print(f\"Deployment status: {deployment.status}\")"
   ]
  }
 ],
 "metadata": {
  "kernelspec": {
   "display_name": "Python 3 (ipykernel)",
   "language": "python",
   "name": "python3"
  },
  "language_info": {
   "codemirror_mode": {
    "name": "ipython",
    "version": 3
   },
   "file_extension": ".py",
   "mimetype": "text/x-python",
   "name": "python",
   "nbconvert_exporter": "python",
   "pygments_lexer": "ipython3",
   "version": "3.11.3"
  },
  "vscode": {
   "interpreter": {
    "hash": "c30f2af5f468e7f5b45bcc30fca5f4886c90d54777aed916ed5f6294dfb24bf2"
   }
  }
 },
 "nbformat": 4,
 "nbformat_minor": 2
}
